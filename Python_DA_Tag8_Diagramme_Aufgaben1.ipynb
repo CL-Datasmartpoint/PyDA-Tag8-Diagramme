{
 "cells": [
  {
   "cell_type": "markdown",
   "metadata": {},
   "source": [
    "### Visualisierungsaufgaben\n",
    "\n",
    "1. **Histogramm der `mpg`-Verteilung**:\n",
    "   - Erstelle ein Histogramm, das die Verteilung von `mpg` zeigt.\n",
    "\n",
    "2. **Verteilung der Zylinderanzahl**:\n",
    "   - Erstelle ein Balkendiagramm, das die Häufigkeit jeder Zylinderanzahl (`cylinders`) darstellt.\n",
    "\n",
    "3. **Streudiagramm der `weight` und `displacement`**:\n",
    "   - Erstelle ein Streudiagramm, um die Beziehung zwischen `weight` und `displacement` zu visualisieren.\n",
    "\n",
    "4. **Boxplot der `horsepower` nach `cylinders`**:\n",
    "   - Erstelle Boxplots, um die Verteilung von `horsepower` für jede Zylinderanzahl (`cylinders`) zu vergleichen.\n",
    "\n",
    "5. **Histogramm der `model year`-Verteilung**:\n",
    "   - Erstelle ein Histogramm, um die Verteilung der `model_year`-Werte zu visualisieren.\n",
    "\n",
    "6. **Heatmap der Korrelation zwischen numerischen Merkmalen**:\n",
    "   - Erstelle eine Heatmap, um die Korrelationen zwischen allen numerischen Merkmalen im Datensatz zu visualisieren.\n",
    "\n",
    "7. **Streudiagramm von `mpg` und `acceleration` mit Regressionslinie**:\n",
    "   - Erstelle ein Streudiagramm mit einer Regressionslinie, um die Beziehung zwischen `mpg` und `acceleration` zu visualisieren.\n",
    "\n",
    "8. **Histogramm der `mpg`-Verteilung nach Zylinderanzahl**:\n",
    "   - Erstelle Histogramme, die die Verteilung von `mpg` für jede Zylinderanzahl (`cylinders`) zeigen.\n",
    "\n",
    "9. **Barplot der durchschnittlichen `mpg` nach `cylinders`**:\n",
    "   - Erstelle ein Balkendiagramm, das den durchschnittlichen `mpg` für jede Zylinderanzahl (`cylinders`) darstellt.\n",
    "\n",
    "10. **Pairplot für ausgewählte Merkmale**:\n",
    "    - Erstelle einen Pairplot für ausgewählte Merkmale (`mpg`, `horsepower`, `weight`)."
   ]
  },
  {
   "cell_type": "markdown",
   "metadata": {},
   "source": [
    "1. **Histogramm der `mpg`-Verteilung**:\n",
    "   - Erstelle ein Histogramm, das die Verteilung von `mpg` zeigt."
   ]
  },
  {
   "cell_type": "markdown",
   "metadata": {},
   "source": [
    "\n",
    "2. **Verteilung der Zylinderanzahl**:\n",
    "   - Erstelle ein Balkendiagramm, das die Häufigkeit jeder Zylinderanzahl (`cylinders`) darstellt."
   ]
  },
  {
   "cell_type": "markdown",
   "metadata": {},
   "source": [
    "3. **Streudiagramm der `weight` und `displacement`**:\n",
    "   - Erstelle ein Streudiagramm, um die Beziehung zwischen `weight` und `displacement` zu visualisieren."
   ]
  },
  {
   "cell_type": "markdown",
   "metadata": {},
   "source": [
    "4. **Boxplot der `horsepower` nach `cylinders`**:\n",
    "   - Erstelle Boxplots, um die Verteilung von `horsepower` für jede Zylinderanzahl (`cylinders`) zu vergleichen."
   ]
  },
  {
   "cell_type": "markdown",
   "metadata": {},
   "source": [
    "\n",
    "5. **Histogramm der `model year`-Verteilung**:\n",
    "   - Erstelle ein Histogramm, um die Verteilung der `model_year`-Werte zu visualisieren."
   ]
  },
  {
   "cell_type": "markdown",
   "metadata": {},
   "source": [
    "\n",
    "6. **Heatmap der Korrelation zwischen numerischen Merkmalen**:\n",
    "   - Erstelle eine Heatmap, um die Korrelationen zwischen allen numerischen Merkmalen im Datensatz zu visualisieren."
   ]
  },
  {
   "cell_type": "markdown",
   "metadata": {},
   "source": [
    "7. **Streudiagramm von `mpg` und `acceleration` mit Regressionslinie**:\n",
    "   - Erstelle ein Streudiagramm mit einer Regressionslinie, um die Beziehung zwischen `mpg` und `acceleration` zu visualisieren."
   ]
  },
  {
   "cell_type": "markdown",
   "metadata": {},
   "source": [
    "\n",
    "8. **Histogramm der `mpg`-Verteilung nach Zylinderanzahl**:\n",
    "   - Erstelle Histogramme, die die Verteilung von `mpg` für jede Zylinderanzahl (`cylinders`) zeigen."
   ]
  },
  {
   "cell_type": "markdown",
   "metadata": {},
   "source": [
    "9. **Barplot der durchschnittlichen `mpg` nach `cylinders`**:\n",
    "   - Erstelle ein Balkendiagramm, das den durchschnittlichen `mpg` für jede Zylinderanzahl (`cylinders`) darstellt."
   ]
  },
  {
   "cell_type": "markdown",
   "metadata": {},
   "source": [
    "10. **Pairplot für ausgewählte Merkmale**:\n",
    "    - Erstelle einen Pairplot für ausgewählte Merkmale (`mpg`, `horsepower`, `weight`)."
   ]
  },
  {
   "cell_type": "code",
   "execution_count": 1,
   "metadata": {},
   "outputs": [
    {
     "name": "stdout",
     "output_type": "stream",
     "text": [
      "Hallo\n"
     ]
    }
   ],
   "source": [
    "print(\"Hallo\")"
   ]
  }
 ],
 "metadata": {
  "kernelspec": {
   "display_name": "Python 3",
   "language": "python",
   "name": "python3"
  },
  "language_info": {
   "codemirror_mode": {
    "name": "ipython",
    "version": 3
   },
   "file_extension": ".py",
   "mimetype": "text/x-python",
   "name": "python",
   "nbconvert_exporter": "python",
   "pygments_lexer": "ipython3",
   "version": "3.12.3"
  }
 },
 "nbformat": 4,
 "nbformat_minor": 2
}
