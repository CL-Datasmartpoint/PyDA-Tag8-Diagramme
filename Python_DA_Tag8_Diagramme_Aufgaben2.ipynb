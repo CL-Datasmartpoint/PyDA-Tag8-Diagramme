{
 "cells": [
  {
   "cell_type": "markdown",
   "metadata": {},
   "source": [
    "# Aufgaben zur Datenvisualisierung - auto-mpg.csv\n",
    "\n",
    "1. **Zeige die Zeitentwicklung der Fahrzeugleistung**:\n",
    "   - Erstelle ein Liniendiagramm, das die durchschnittliche `horsepower` und `mpg` für jedes `model year` darstellt.\n",
    "\n",
    "2. **Verhältnis der Zylinder zu `mpg`**:\n",
    "   - Erstelle ein Violinplot, um die Verteilung von `mpg` für verschiedene Zylinderanzahlen (`cylinders`) zu visualisieren.\n",
    "\n",
    "3. **Paarweise Vergleich der Merkmale**:\n",
    "   - Erstelle ein Pairplot für ausgewählte Merkmale (`mpg`, `horsepower`, `weight`, `displacement`), um deren Beziehungen zu visualisieren.\n",
    "\n",
    "4. **Dichteverteilung der Merkmale**:\n",
    "   - Erstelle Dichteplots für `mpg`, `horsepower` und `weight`, um deren Dichteverteilungen zu visualisieren.\n",
    "\n",
    "5. **Gemeinsame Verteilung von `mpg` und `weight`**:\n",
    "   - Informiere dich über Hexbin-Plots über die [matplotlib-docu](https://matplotlib.org/stable/api/_as_gen/matplotlib.pyplot.hexbin.html)\n",
    "   - Erstelle ein Hexbin-Plot, um die gemeinsame Verteilung von `mpg` und `weight` darzustellen.\n",
    "\n",
    "6. **Boxplots für `mpg` über die Jahre**:\n",
    "   - Erstelle Boxplots, um die Verteilung von `mpg` für jedes `model_year` zu vergleichen.\n",
    "\n",
    "7. **Beziehung zwischen `mpg` und `displacement`**:\n",
    "   - Erstelle ein Streudiagramm, das die Beziehung zwischen `mpg` und `displacement` zeigt, und füge eine Regressionslinie hinzu.\n",
    "\n",
    "### **EXTRA**\n",
    "8. **Interaktive Visualisierungen**:\n",
    "   - Nutze Plotly, um interaktive Streudiagramme und Balkendiagramme zu erstellen, die Merkmale wie `mpg`, `horsepower` und `weight` darstellen."
   ]
  }
 ],
 "metadata": {
  "language_info": {
   "name": "python"
  }
 },
 "nbformat": 4,
 "nbformat_minor": 2
}
